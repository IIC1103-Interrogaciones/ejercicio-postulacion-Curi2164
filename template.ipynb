{
 "cells": [
  {
   "cell_type": "markdown",
   "metadata": {},
   "source": [
    "# Ejercicio de Postulación - Área de Interrogaciones"
   ]
  },
  {
   "cell_type": "markdown",
   "metadata": {},
   "source": [
    "Nombre: Javier Curivil\n",
    "\n",
    "Email: javier.curivil@uc.cl\n",
    "\n",
    "Telegram: @curijavier"
   ]
  },
  {
   "cell_type": "markdown",
   "metadata": {},
   "source": [
    "## Código solución (NO MODIFICAR)"
   ]
  },
  {
   "cell_type": "code",
   "execution_count": 4,
   "metadata": {},
   "outputs": [],
   "source": [
    "#code.py\n",
    "def obtener_proximos(partidos, equipo):\n",
    "    equipos = []\n",
    "    ex_rivales = []\n",
    "    for partido in partidos:\n",
    "        if partido[0] not in equipos:\n",
    "            equipos.append(partido[0])\n",
    "        if partido[1] not in equipos:\n",
    "            equipos.append(partido[1])\n",
    "        if equipo == partido[0]:\n",
    "            ex_rivales.append(partido[1])\n",
    "        if equipo == partido[1]:\n",
    "            ex_rivales.append(partido[0])\n",
    "    pendientes = []\n",
    "    for rival in equipos:\n",
    "        if rival not in ex_rivales:\n",
    "            pendientes.append(rival)\n",
    "    return pendientes\n"
   ]
  },
  {
   "cell_type": "markdown",
   "metadata": {},
   "source": [
    "## Runner Personalizado (Opcional Modificar) "
   ]
  },
  {
   "cell_type": "markdown",
   "metadata": {},
   "source": [
    "Se tendra en consideración si logran hacer que los outputs sean iguales (solo modificando el runner) independiente del orden en que retornen los elementos en la lista."
   ]
  },
  {
   "cell_type": "code",
   "execution_count": 5,
   "metadata": {},
   "outputs": [],
   "source": [
    "from functools import partial\n",
    "\n",
    "def obtener_proximos_modificada(func_original, partidos, equipo):\n",
    "    resultado = func_original(partidos, equipo)\n",
    "    # Cambiar Comportamiento de la función original (opcional)\n",
    "    return resultado\n",
    "\n",
    "# Con esto reescribimos la función original para capturar el capturar resultado del alumno y modificarlo si es necesario\n",
    "obtener_proximos = partial(obtener_proximos_modificada, obtener_proximos)\n"
   ]
  },
  {
   "cell_type": "markdown",
   "metadata": {},
   "source": [
    "## Enunciado"
   ]
  },
  {
   "cell_type": "markdown",
   "metadata": {},
   "source": [
    "## DCCampeonato\n",
    "### Objetivo\n",
    "Está próximo a realizarse el DCCampeonato de fútbol, en donde todos los equipos competirán entre sí para ver cuál es el mejor. Ya se han realizado los primeros partidos en donde todos los equipos jugaron, pero ahora se deben agendar los próximos encuentros. Para esto se te ha pedido encargarte de agendar las fechas de los próximos partidos mediante un programa desarrollado en _python_. \n",
    "\n",
    "Notar que todos los equipos deben jugar contra todo una vez, por ende no puede haber un par de equipos que no se hayan enfrentado entre sí al final del campeonato.\n",
    "\n",
    "Tu misión es definir la función ``obtener_próximos(partidos, equipo)``, la cual se encarga de obtener a todos los próximos rivales con los que el equipo actual no se ha enfrentado. Esta función recibe 2 parámetros: ``partidos``, que corresponde a una lista de listas que representan todos partidos que se han disputado hasta el momento, y el parámetro ``equipo``,  que representa al equipo actual del cual queremos obtener a sus próximos rivales. Para lograr esto, tu función debe retornar una lista que contenga el nombre de todos los equipos con los cuales el equipo actual no se ha enfrentado aún.\n",
    "\n",
    "OJO: Para efectos prácticos, sí se considera la situación en donde un equipo se enfrente a sí mismo, por ende en la solución sí se podría dar en caso de que el mismo equipo aparezca en la lista, pero solo si este ya jugó un partido.\n",
    "\n",
    "### Ejemplo\n",
    "#### input\n",
    "``obtener_proximos([['DCCachorros', 'DCCiudadanos'], ['introFC', 'avanzadaClub'], ['AnimeFC', 'CineFC']], 'introFC')``\n",
    "#### output\n",
    "``['DCCachorros', 'DCCiudadanos', 'introFC', 'AnimeFC', 'CineFC']``\n",
    "#### explicación\n",
    "Como introFC ya se enfrentó al equipo de avanzadaClub, la función retorna una lista con los nombres de todos los equipos a los cuales introFC debe enfrentarse próximamente, por este motivo se excluye a avanzadaClub en el _output_. Además como se mencionó anteriormente, introFC queda incluído en la solución ya que no nos preocupa ese caso."
   ]
  },
  {
   "cell_type": "markdown",
   "metadata": {},
   "source": [
    "## Testcases"
   ]
  },
  {
   "cell_type": "markdown",
   "metadata": {},
   "source": [
    "### Testcase 1"
   ]
  },
  {
   "cell_type": "markdown",
   "metadata": {},
   "source": [
    "#### Input"
   ]
  },
  {
   "cell_type": "code",
   "execution_count": null,
   "metadata": {},
   "outputs": [],
   "source": [
    "obtener_proximos([[\"DCCachorros\", \"DCCiudadanos\"], [\"introFC\", \"avanzadaClub\"], [\"AnimeFC\", \"CineFC\"]], \"EquipoNuevo\")"
   ]
  },
  {
   "cell_type": "markdown",
   "metadata": {},
   "source": [
    "#### Output"
   ]
  },
  {
   "cell_type": "code",
   "execution_count": null,
   "metadata": {},
   "outputs": [],
   "source": [
    "['DCCachorros', 'DCCiudadanos', 'introFC', 'avanzadaClub', 'AnimeFC', 'CineFC']"
   ]
  },
  {
   "cell_type": "markdown",
   "metadata": {},
   "source": [
    "### Testcase 2"
   ]
  },
  {
   "cell_type": "markdown",
   "metadata": {},
   "source": [
    "#### Input"
   ]
  },
  {
   "cell_type": "code",
   "execution_count": null,
   "metadata": {},
   "outputs": [],
   "source": [
    "obtener_proximos([[\"DCCachorros\", \"DCCiudadanos\"], [\"introFC\", \"avanzadaClub\"], [\"introFC\", \"DCCachorros\"]], \"introFC\")"
   ]
  },
  {
   "cell_type": "markdown",
   "metadata": {},
   "source": [
    "#### Output"
   ]
  },
  {
   "cell_type": "code",
   "execution_count": null,
   "metadata": {},
   "outputs": [],
   "source": [
    "['DCCiudadanos', 'introFC']"
   ]
  },
  {
   "cell_type": "markdown",
   "metadata": {},
   "source": [
    "### Testcase 3"
   ]
  },
  {
   "cell_type": "markdown",
   "metadata": {},
   "source": [
    "#### Input"
   ]
  },
  {
   "cell_type": "code",
   "execution_count": null,
   "metadata": {},
   "outputs": [],
   "source": [
    "obtener_proximos([[\"DCCachorros\", \"DCCiudadanos\"], [\"DCCiudadanos\", \"avanzadaClub\"], [\"DCCiudadanos\", \"DCCachorros\"]], \"DCCiudadanos\")"
   ]
  },
  {
   "cell_type": "markdown",
   "metadata": {},
   "source": [
    "#### Output"
   ]
  },
  {
   "cell_type": "code",
   "execution_count": null,
   "metadata": {},
   "outputs": [],
   "source": [
    "['DCCiudadanos']"
   ]
  }
 ],
 "metadata": {
  "kernelspec": {
   "display_name": "Python 3",
   "language": "python",
   "name": "python3"
  },
  "language_info": {
   "codemirror_mode": {
    "name": "ipython",
    "version": 3
   },
   "file_extension": ".py",
   "mimetype": "text/x-python",
   "name": "python",
   "nbconvert_exporter": "python",
   "pygments_lexer": "ipython3",
   "version": "3.10.11"
  }
 },
 "nbformat": 4,
 "nbformat_minor": 4
}
